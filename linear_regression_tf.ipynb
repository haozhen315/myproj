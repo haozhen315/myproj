{
 "cells": [
  {
   "cell_type": "code",
   "execution_count": 2,
   "metadata": {},
   "outputs": [],
   "source": [
    "import numpy as np\n",
    "import tensorflow as tf"
   ]
  },
  {
   "cell_type": "markdown",
   "metadata": {},
   "source": [
    "# linear regression with tf"
   ]
  },
  {
   "cell_type": "code",
   "execution_count": 45,
   "metadata": {},
   "outputs": [],
   "source": [
    "N = 100\n",
    "D = 3\n",
    "x = np.random.random((N,D))\n",
    "w_true = np.array([1,2,3]).reshape((D,1))\n",
    "b_true = 4\n",
    "y = x@w_true+b_true"
   ]
  },
  {
   "cell_type": "code",
   "execution_count": 85,
   "metadata": {
    "collapsed": true,
    "jupyter": {
     "outputs_hidden": true
    }
   },
   "outputs": [
    {
     "name": "stdout",
     "output_type": "stream",
     "text": [
      "43.209595\n",
      "17.761448\n",
      "7.3265185\n",
      "3.0469306\n",
      "1.2910267\n",
      "0.5698529\n",
      "0.27294946\n",
      "0.15003087\n",
      "0.09848134\n",
      "0.076227926\n",
      "0.06602002\n",
      "0.060783867\n",
      "0.057618324\n",
      "0.05533291\n",
      "0.053438634\n",
      "0.05173397\n",
      "0.05013549\n",
      "0.04860805\n",
      "0.04713641\n",
      "0.045713477\n",
      "0.04433558\n",
      "0.043000393\n",
      "0.041706223\n",
      "0.040451717\n",
      "0.03923551\n",
      "0.038056448\n",
      "0.036913354\n",
      "0.03580511\n",
      "0.034730624\n",
      "0.0336889\n",
      "0.0326789\n",
      "0.03169966\n",
      "0.030750182\n",
      "0.029829623\n",
      "0.028937057\n",
      "0.028071592\n",
      "0.027232451\n",
      "0.02641876\n",
      "0.02562981\n",
      "0.024864808\n",
      "0.024122989\n",
      "0.023403678\n",
      "0.022706175\n",
      "0.02202979\n",
      "0.021373928\n",
      "0.020737894\n",
      "0.020121109\n",
      "0.019522993\n",
      "0.018942965\n",
      "0.018380467\n",
      "0.017834954\n",
      "0.017305925\n",
      "0.016792871\n",
      "0.01629529\n",
      "0.01581271\n",
      "0.015344704\n",
      "0.014890779\n",
      "0.0144505445\n",
      "0.014023537\n",
      "0.0136094205\n",
      "0.013207761\n",
      "0.012818153\n",
      "0.012440273\n",
      "0.012073728\n",
      "0.011718211\n",
      "0.011373336\n",
      "0.011038839\n",
      "0.010714363\n",
      "0.010399617\n",
      "0.010094292\n",
      "0.009798113\n",
      "0.009510812\n",
      "0.009232099\n",
      "0.008961725\n",
      "0.008699434\n",
      "0.008444964\n",
      "0.0081981085\n",
      "0.00795862\n",
      "0.007726265\n",
      "0.007500844\n",
      "0.0072821486\n",
      "0.007069962\n",
      "0.006864099\n",
      "0.0066643567\n",
      "0.006470551\n",
      "0.0062825014\n",
      "0.006100058\n",
      "0.005923029\n",
      "0.0057512354\n",
      "0.0055845547\n",
      "0.005422814\n",
      "0.00526587\n",
      "0.0051135705\n",
      "0.004965787\n",
      "0.004822363\n",
      "0.0046831807\n",
      "0.004548119\n",
      "0.0044170413\n",
      "0.00428984\n",
      "0.004166383\n"
     ]
    }
   ],
   "source": [
    "# known: x,y\n",
    "# desire: w\n",
    "\n",
    "tf.reset_default_graph()\n",
    "s = tf.InteractiveSession()\n",
    "x_placeholder = tf.placeholder(dtype=tf.float32)\n",
    "y_placeholder = tf.placeholder(dtype=tf.float32)\n",
    "w = tf.get_variable(name='w',initializer=np.float32(np.random.random((D,1))),dtype=tf.float32)\n",
    "b = tf.get_variable(name='b',initializer=np.float32(np.random.random()),dtype=tf.float32)\n",
    "y_pred = x_placeholder@w+b\n",
    "loss = (y_pred-y_placeholder)**2\n",
    "optimizer = tf.train.GradientDescentOptimizer(0.001)\n",
    "step = optimizer.minimize(loss)\n",
    "s.run(tf.global_variables_initializer())\n",
    "saver = tf.train.Saver(tf.trainable_variables())\n",
    "# saver.restore(s,'logs/saved_variables.ckpt')\n",
    "num_steps = 100\n",
    "for i in range(num_steps):\n",
    "    _,curr_w,curr_b,curr_loss = s.run([step,w,b,loss],feed_dict={x_placeholder:x,y_placeholder:y})\n",
    "    print(curr_loss.mean())\n",
    "    if i%10==0:\n",
    "        saver.save(s,'logs/saved_variables.ckpt')"
   ]
  },
  {
   "cell_type": "code",
   "execution_count": null,
   "metadata": {},
   "outputs": [],
   "source": []
  },
  {
   "cell_type": "code",
   "execution_count": 75,
   "metadata": {},
   "outputs": [],
   "source": [
    "# you build the heart\n",
    "# they build the bone"
   ]
  },
  {
   "cell_type": "code",
   "execution_count": null,
   "metadata": {},
   "outputs": [],
   "source": []
  }
 ],
 "metadata": {
  "kernelspec": {
   "display_name": "Python 3",
   "language": "python",
   "name": "python3"
  },
  "language_info": {
   "codemirror_mode": {
    "name": "ipython",
    "version": 3
   },
   "file_extension": ".py",
   "mimetype": "text/x-python",
   "name": "python",
   "nbconvert_exporter": "python",
   "pygments_lexer": "ipython3",
   "version": "3.7.5"
  }
 },
 "nbformat": 4,
 "nbformat_minor": 4
}
