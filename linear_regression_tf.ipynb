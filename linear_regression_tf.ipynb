{
 "cells": [
  {
   "cell_type": "code",
   "execution_count": 2,
   "metadata": {},
   "outputs": [],
   "source": [
    "import numpy as np\n",
    "import tensorflow as tf"
   ]
  },
  {
   "cell_type": "markdown",
   "metadata": {},
   "source": [
    "# linear regression with tf"
   ]
  },
  {
   "cell_type": "code",
   "execution_count": 45,
   "metadata": {},
   "outputs": [],
   "source": [
    "N = 100\n",
    "D = 3\n",
    "x = np.random.random((N,D))\n",
    "w_true = np.array([1,2,3]).reshape((D,1))\n",
    "b_true = 4\n",
    "y = x@w_true+b_true"
   ]
  },
  {
   "cell_type": "code",
   "execution_count": 74,
   "metadata": {},
   "outputs": [
    {
     "name": "stdout",
     "output_type": "stream",
     "text": [
      "34.63898\n",
      "14.27577\n",
      "5.924763\n",
      "2.4987335\n",
      "1.0919731\n",
      "0.5131612\n",
      "0.27386454\n",
      "0.17382704\n",
      "0.13094328\n",
      "0.11154917\n"
     ]
    }
   ],
   "source": [
    "# known: x,y\n",
    "# desire: w\n",
    "\n",
    "tf.reset_default_graph()\n",
    "s = tf.InteractiveSession()\n",
    "x_placeholder = tf.placeholder(dtype=tf.float32)\n",
    "y_placeholder = tf.placeholder(dtype=tf.float32)\n",
    "w = tf.get_variable(name='w',initializer=np.float32(np.random.random((D,1))),dtype=tf.float32)\n",
    "b = tf.get_variable(name='b',initializer=np.float32(np.random.random()),dtype=tf.float32)\n",
    "y_pred = x_placeholder@w+b\n",
    "loss = (y_pred-y_placeholder)**2\n",
    "optimizer = tf.train.GradientDescentOptimizer(0.001)\n",
    "step = optimizer.minimize(loss)\n",
    "s.run(tf.global_variables_initializer())\n",
    "num_steps = 10\n",
    "for _ in range(num_steps):\n",
    "    _,curr_w,curr_b,curr_loss = s.run([step,w,b,loss],feed_dict={x_placeholder:x,y_placeholder:y})\n",
    "    print(curr_loss.mean())"
   ]
  },
  {
   "cell_type": "code",
   "execution_count": 75,
   "metadata": {},
   "outputs": [],
   "source": [
    "# you build the heart\n",
    "# they build the bone"
   ]
  },
  {
   "cell_type": "code",
   "execution_count": null,
   "metadata": {},
   "outputs": [],
   "source": []
  }
 ],
 "metadata": {
  "kernelspec": {
   "display_name": "Python 3",
   "language": "python",
   "name": "python3"
  },
  "language_info": {
   "codemirror_mode": {
    "name": "ipython",
    "version": 3
   },
   "file_extension": ".py",
   "mimetype": "text/x-python",
   "name": "python",
   "nbconvert_exporter": "python",
   "pygments_lexer": "ipython3",
   "version": "3.7.5"
  }
 },
 "nbformat": 4,
 "nbformat_minor": 4
}
