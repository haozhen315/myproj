{
 "cells": [
  {
   "cell_type": "code",
   "execution_count": 1,
   "metadata": {},
   "outputs": [],
   "source": [
    "from itertools import product"
   ]
  },
  {
   "cell_type": "code",
   "execution_count": 2,
   "metadata": {},
   "outputs": [],
   "source": [
    "dice1 = [1, 2, 3, 4, 5, 6]\n",
    "dice2 = [1, 2, 3, 4, 5, 6]\n",
    "\n",
    "def count_wins(dice1, dice2):\n",
    "    assert len(dice1) == 6 and len(dice2) == 6\n",
    "    dice1_wins, dice2_wins = 0, 0\n",
    "    \n",
    "    # write your code here\n",
    "    for c in product(dice1, dice2):\n",
    "        if c[0] > c[1]:\n",
    "            dice1_wins += 1\n",
    "        elif c[0] < c[1]:\n",
    "            dice2_wins += 1\n",
    "        \n",
    "    return (dice1_wins, dice2_wins)"
   ]
  },
  {
   "cell_type": "code",
   "execution_count": 3,
   "metadata": {},
   "outputs": [],
   "source": [
    "count_wins(dice1, dice2)"
   ]
  },
  {
   "cell_type": "code",
   "execution_count": 4,
   "metadata": {},
   "outputs": [],
   "source": [
    "count_wins([1, 1, 6, 6, 8, 8], [2, 2, 4, 4, 9, 9])"
   ]
  },
  {
   "cell_type": "code",
   "execution_count": 5,
   "metadata": {},
   "outputs": [],
   "source": [
    "def find_the_best_dice(dices):\n",
    "    assert all(len(dice) == 6 for dice in dices)\n",
    "\n",
    "    # write your code here\n",
    "    # use your implementation of count_wins method if necessary\n",
    "    num_dices = len(dices)\n",
    "    for i in range(num_dices):\n",
    "        i_is_best = True\n",
    "        for j in range(num_dices):\n",
    "            wins = count_wins(dices[i], dices[j])\n",
    "            if wins[0] < wins[1]:\n",
    "                i_is_best = False\n",
    "        if i_is_best == True:\n",
    "            return i\n",
    "    else:\n",
    "        return -1"
   ]
  },
  {
   "cell_type": "code",
   "execution_count": 6,
   "metadata": {},
   "outputs": [],
   "source": [
    "dices = [[1, 1, 6, 6, 8, 8], [2, 2, 4, 4, 9, 9], [3, 3, 5, 5, 7, 7]]"
   ]
  },
  {
   "cell_type": "code",
   "execution_count": 7,
   "metadata": {},
   "outputs": [
    {
     "data": {
      "text/plain": [
       "-1"
      ]
     },
     "execution_count": 7,
     "metadata": {},
     "output_type": "execute_result"
    }
   ],
   "source": [
    "find_the_best_dice(dices)"
   ]
  },
  {
   "cell_type": "code",
   "execution_count": 8,
   "metadata": {},
   "outputs": [],
   "source": [
    "def compute_strategy(dices):\n",
    "    assert all(len(dice) == 6 for dice in dices)\n",
    "\n",
    "    strategy = dict()\n",
    "    strategy[\"choose_first\"] = True\n",
    "    strategy[\"first_dice\"] = 0\n",
    "    for i in range(len(dices)):\n",
    "        strategy[i] = (i + 1) % len(dices)\n",
    "        \n",
    "    # write your code here\n",
    "    num_dices = len(dices)\n",
    "    best_dice = find_the_best_dice(dices)\n",
    "    if best_dice != -1:\n",
    "        strategy[\"first_dice\"] = best_dice\n",
    "        return strategy\n",
    "    else:\n",
    "        strategy[\"choose_first\"] = False\n",
    "        for i in range(num_dices):\n",
    "            best_bit_i = -1\n",
    "            max_num_bits = 0\n",
    "            for j in range(num_dices):\n",
    "                wins = count_wins(dices[i], dices[j])\n",
    "                num_bits = wins[1] - wins[0]\n",
    "                if num_bits > max_num_bits:\n",
    "                    max_num_bits = num_bits\n",
    "                    best_bit_i = j\n",
    "                    strategy[i] = j\n",
    "    return strategy"
   ]
  },
  {
   "cell_type": "code",
   "execution_count": 9,
   "metadata": {},
   "outputs": [],
   "source": [
    "dices1 = [[1, 1, 4, 6, 7, 8], [2, 2, 2, 6, 7, 7], [3, 3, 3, 5, 5, 8]]\n",
    "dices2 = [[4, 4, 4, 4, 0, 0], [7, 7, 3, 3, 3, 3], [6, 6, 2, 2, 2, 2], [5, 5, 5, 1, 1, 1]]"
   ]
  },
  {
   "cell_type": "code",
   "execution_count": 10,
   "metadata": {},
   "outputs": [
    {
     "data": {
      "text/plain": [
       "{'choose_first': False, 'first_dice': 0, 0: 1, 1: 2, 2: 0}"
      ]
     },
     "execution_count": 10,
     "metadata": {},
     "output_type": "execute_result"
    }
   ],
   "source": [
    "compute_strategy(dices1)"
   ]
  },
  {
   "cell_type": "code",
   "execution_count": 11,
   "metadata": {},
   "outputs": [
    {
     "data": {
      "text/plain": [
       "{'choose_first': True, 'first_dice': 1, 0: 1, 1: 2, 2: 3, 3: 0}"
      ]
     },
     "execution_count": 11,
     "metadata": {},
     "output_type": "execute_result"
    }
   ],
   "source": [
    "compute_strategy(dices2)"
   ]
  },
  {
   "cell_type": "code",
   "execution_count": null,
   "metadata": {},
   "outputs": [],
   "source": []
  }
 ],
 "metadata": {
  "kernelspec": {
   "display_name": "Python 3",
   "language": "python",
   "name": "python3"
  },
  "language_info": {
   "codemirror_mode": {
    "name": "ipython",
    "version": 3
   },
   "file_extension": ".py",
   "mimetype": "text/x-python",
   "name": "python",
   "nbconvert_exporter": "python",
   "pygments_lexer": "ipython3",
   "version": "3.7.5"
  }
 },
 "nbformat": 4,
 "nbformat_minor": 2
}
